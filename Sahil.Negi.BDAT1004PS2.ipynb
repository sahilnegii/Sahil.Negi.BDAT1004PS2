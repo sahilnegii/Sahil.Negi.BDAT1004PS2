{
 "cells": [
  {
   "cell_type": "markdown",
   "id": "1e12ffbf",
   "metadata": {},
   "source": [
    "# Problem Set 2"
   ]
  },
  {
   "cell_type": "markdown",
   "id": "ae1bbb18",
   "metadata": {},
   "source": [
    "## Question 1\n",
    "### Consider the following Python module:\n",
    "    a = 0\n",
    "    \n",
    "    def b():\n",
    "         global a\n",
    "         a = c(a)\n",
    "         \n",
    "    def c(a):\n",
    "         return a + 2\n",
    "     \n",
    "    After importing the module into the interpreter, you execute:\n",
    "    \n",
    "    >>> b()\n",
    "    >>> b()\n",
    "    >>> b()\n",
    "    >>> a\n",
    "    ?\n",
    "    \n",
    "    What value is displayed when the last expression (a) is evaluated? Explain your \n",
    "    answer by indicating what happens in every executed statement"
   ]
  },
  {
   "cell_type": "code",
   "execution_count": 27,
   "id": "c0b8b5cf",
   "metadata": {},
   "outputs": [],
   "source": [
    "a = 0\n",
    "\n",
    "def b():\n",
    "     global a\n",
    "     a = c(a)\n",
    "     \n",
    "def c(a):\n",
    "     return a + 2"
   ]
  },
  {
   "cell_type": "code",
   "execution_count": 28,
   "id": "2b501c99",
   "metadata": {},
   "outputs": [],
   "source": [
    "b()"
   ]
  },
  {
   "cell_type": "code",
   "execution_count": 29,
   "id": "a1a9e0eb",
   "metadata": {},
   "outputs": [],
   "source": [
    "b()"
   ]
  },
  {
   "cell_type": "code",
   "execution_count": 30,
   "id": "bc146c72",
   "metadata": {},
   "outputs": [],
   "source": [
    "b()"
   ]
  },
  {
   "cell_type": "code",
   "execution_count": 31,
   "id": "68a921fd",
   "metadata": {},
   "outputs": [
    {
     "data": {
      "text/plain": [
       "6"
      ]
     },
     "execution_count": 31,
     "metadata": {},
     "output_type": "execute_result"
    }
   ],
   "source": [
    "a"
   ]
  },
  {
   "cell_type": "markdown",
   "id": "7dacc16b",
   "metadata": {},
   "source": [
    "> Explaination: (Dry Run)\n",
    "\n",
    "       1. >>> b()\n",
    "            Calls the function b().\n",
    "            The global variable a (which is currently 0) is passed to the function c.\n",
    "            c(0) returns 0 + 2 = 2.\n",
    "            So, the global variable a is now updated to 2.\n",
    "        \n",
    "       2. >>> b()\n",
    "            Calls the function b() again.\n",
    "            The global variable a (which is now 2) is passed to the function c.\n",
    "            c(2) returns 2 + 2 = 4.\n",
    "            So, the global variable a is now updated to 4.\n",
    "            \n",
    "       3. >>> b()\n",
    "            Calls the function b() one more time.\n",
    "            The global variable a (which is now 4) is passed to the function c.\n",
    "            c(4) returns 4 + 2 = 6.\n",
    "            So, the global variable a is now updated to 6.\n",
    "            \n",
    "       4. >>> a\n",
    "            This simply evaluates the current value of the global variable a which is now 6.\n",
    "            \n",
    "      \n",
    "        The value displayed when the last expression (a) is evaluated is 6."
   ]
  },
  {
   "cell_type": "markdown",
   "id": "1a217124",
   "metadata": {},
   "source": [
    "## Question 2\n",
    "### Function fileLength(), given to you, takes the name of a file as input and returns the length of the file:\n",
    "    >>> fileLength('midterm.py')\n",
    "    284\n",
    "    >>> fileLength('idterm.py')\n",
    "    Traceback (most recent call last):\n",
    "    File \"<pyshell#34>\", line 1, in <module>\n",
    "     fileLength('idterm.py')\n",
    "    File \"/Users/me/midterm.py\", line 3, in fileLength\n",
    "     infile = open(filename)\n",
    "    FileNotFoundError: [Errno 2] No such file or directory: \n",
    "    'idterm.py'\n",
    "    \n",
    "    As shown above, if the file cannot be found by the interpreter or if it cannot be read \n",
    "    as a text file, an exception will be raised. Modify function fileLength() so that a \n",
    "    friendly message is printed instead:\n",
    "    >>> fileLength('midterm.py')\n",
    "    358\n",
    "    >>> fileLength('idterm.py')\n",
    "    File idterm.py not found."
   ]
  },
  {
   "cell_type": "code",
   "execution_count": 24,
   "id": "2cc804a7",
   "metadata": {},
   "outputs": [],
   "source": [
    "def file_length(file_name):\n",
    "    try:\n",
    "        file = open(file_name)\n",
    "        contents = file.read()\n",
    "        file.close()\n",
    "        print(len(contents))\n",
    "    except FileNotFoundError:      # exception is caught and a friendly message is printed.\n",
    "        print(\"File '{}' not found\".format(file_name))  "
   ]
  },
  {
   "cell_type": "code",
   "execution_count": 25,
   "id": "0c2f16ce",
   "metadata": {},
   "outputs": [
    {
     "name": "stdout",
     "output_type": "stream",
     "text": [
      "123\n"
     ]
    }
   ],
   "source": [
    "file_length('Filelength.txt') "
   ]
  },
  {
   "cell_type": "code",
   "execution_count": 26,
   "id": "da5fc823",
   "metadata": {},
   "outputs": [
    {
     "name": "stdout",
     "output_type": "stream",
     "text": [
      "File 'ilelength.txt' not found\n"
     ]
    }
   ],
   "source": [
    "file_length('ilelength.txt') "
   ]
  },
  {
   "cell_type": "markdown",
   "id": "1a571f80",
   "metadata": {},
   "source": [
    "## Question 3\n",
    "### Write a class named Marsupial that can be used as shown below:\n",
    "    >>> m = Marsupial()\n",
    "    >>> m.put_in_pouch('doll')\n",
    "    >>> m.put_in_pouch('firetruck')\n",
    "    >>> m.put_in_pouch('kitten')\n",
    "    >>> m.pouch_contents()\n",
    "    ['doll', 'firetruck', 'kitten']\n",
    "    \n",
    "    Now write a class named Kangaroo as a subclass of Marsupial that inherits all the attributes of Marsupial and also:\n",
    "        a. extends the Marsupial __init__ constructor to take, as input, the coordinates x and y of the Kangaroo object,\n",
    "        b. supports method jump that takes number values dx and dy as input and \n",
    "           moves the kangaroo by dx units along the x-axis and by dy units along the y-axis, and\n",
    "        c. overloads the __str__ operator so it behaves as shown below.\n",
    "\n",
    "    >>> k = Kangaroo(0,0)\n",
    "    >>> print(k)\n",
    "    I am a Kangaroo located at coordinates (0,0)\n",
    "    >>> k.put_in_pouch('doll')\n",
    "    >>> k.put_in_pouch('firetruck')\n",
    "    >>> k.put_in_pouch('kitten')\n",
    "    >>> k.pouch_contents()\n",
    "    ['doll', 'firetruck', 'kitten']\n",
    "    >>> k.jump(1,0)\n",
    "    >>> k.jump(1,0)\n",
    "    >>> k.jump(1,0)\n",
    "    >>> print(k)\n",
    "    I am a Kangaroo located at coordinates (3,0)"
   ]
  },
  {
   "cell_type": "code",
   "execution_count": 38,
   "id": "ac4e080e",
   "metadata": {},
   "outputs": [],
   "source": [
    "# Define the Marsupial class\n",
    "class Marsupial:\n",
    "    def __init__(self):\n",
    "        # Initialize an empty list to hold the contents of the pouch\n",
    "        self.pouch = []\n",
    "    \n",
    "    def put_in_pouch(self, item):\n",
    "        # Add the item to the pouch\n",
    "        self.pouch.append(item)\n",
    "        \n",
    "    def pouch_contents(self):\n",
    "        # Prints the contents of the pouch\n",
    "        print(self.pouch)"
   ]
  },
  {
   "cell_type": "code",
   "execution_count": 39,
   "id": "5e6e1c25",
   "metadata": {},
   "outputs": [],
   "source": [
    "m = Marsupial()"
   ]
  },
  {
   "cell_type": "code",
   "execution_count": 40,
   "id": "5ebff281",
   "metadata": {},
   "outputs": [],
   "source": [
    "m.put_in_pouch(\"doll\")\n",
    "m.put_in_pouch(\"firetruck\")\n",
    "m.put_in_pouch(\"kitten\")"
   ]
  },
  {
   "cell_type": "code",
   "execution_count": 41,
   "id": "ceff0749",
   "metadata": {},
   "outputs": [
    {
     "name": "stdout",
     "output_type": "stream",
     "text": [
      "['doll', 'firetruck', 'kitten']\n"
     ]
    }
   ],
   "source": [
    "m.pouch_contents()"
   ]
  },
  {
   "cell_type": "code",
   "execution_count": 42,
   "id": "c2b99eb8",
   "metadata": {},
   "outputs": [],
   "source": [
    "# Inherits the Marsupial class\n",
    "class Kangaroo(Marsupial):\n",
    "    def __init__(self, x,y):\n",
    "        # Extends the constructor of Marsupial\n",
    "        super().__init__()     \n",
    "        self.x=x\n",
    "        self.y=y\n",
    "        \n",
    "    def jump(self,dx,dy):\n",
    "        self.x+=dx\n",
    "        self.y+=dy\n",
    "    \n",
    "    def __str__(self):\n",
    "        return \"I am a Kangaroo located at coordinate ({},{})\".format(self.x,self.y)"
   ]
  },
  {
   "cell_type": "code",
   "execution_count": 43,
   "id": "5c283375",
   "metadata": {},
   "outputs": [],
   "source": [
    "k = Kangaroo(0,0)"
   ]
  },
  {
   "cell_type": "code",
   "execution_count": 44,
   "id": "3c557c04",
   "metadata": {},
   "outputs": [
    {
     "name": "stdout",
     "output_type": "stream",
     "text": [
      "I am a Kangaroo located at coordinate (0,0)\n"
     ]
    }
   ],
   "source": [
    "print(k)"
   ]
  },
  {
   "cell_type": "code",
   "execution_count": 45,
   "id": "14d23edb",
   "metadata": {},
   "outputs": [
    {
     "name": "stdout",
     "output_type": "stream",
     "text": [
      "['doll', 'firetruck', 'kitten']\n"
     ]
    }
   ],
   "source": [
    "k.put_in_pouch(\"doll\")\n",
    "k.put_in_pouch(\"firetruck\")\n",
    "k.put_in_pouch(\"kitten\")\n",
    "k.pouch_contents()"
   ]
  },
  {
   "cell_type": "code",
   "execution_count": 46,
   "id": "11212ee7",
   "metadata": {},
   "outputs": [],
   "source": [
    "k.jump(1,0)\n",
    "k.jump(1,0)\n",
    "k.jump(1,0)"
   ]
  },
  {
   "cell_type": "code",
   "execution_count": 47,
   "id": "66eedc78",
   "metadata": {},
   "outputs": [
    {
     "name": "stdout",
     "output_type": "stream",
     "text": [
      "I am a Kangaroo located at coordinate (3,0)\n"
     ]
    }
   ],
   "source": [
    "print(k)"
   ]
  },
  {
   "cell_type": "markdown",
   "id": "a268d9aa",
   "metadata": {},
   "source": [
    "## Question 4\n",
    "### Write function collatz() that takes a positive integer x as input and prints the Collatz sequence starting at x. \n",
    "    A Collatz sequence is obtained by repeatedly applying this rule to the previous number x in the sequence:\n",
    "    \n",
    "        x = { 𝑥/2  𝑖𝑓 𝑥 𝑖𝑠 𝑒𝑣𝑒𝑛,  3𝑥 + 1  𝑖𝑓 𝑥 𝑖𝑠 𝑜𝑑𝑑\n",
    "        \n",
    "    Your function should stop when the sequence gets to number 1. Your implementation must be recursive, without any loops.\n",
    "    >>> collatz(1)\n",
    "    1\n",
    "    >>> collatz(10)\n",
    "    10\n",
    "    5\n",
    "    16\n",
    "    8\n",
    "    4\n",
    "    2\n",
    "    1"
   ]
  },
  {
   "cell_type": "code",
   "execution_count": 48,
   "id": "e19931c1",
   "metadata": {},
   "outputs": [],
   "source": [
    "def collatz(x):\n",
    "    # Base case: print x and return if x is 1\n",
    "    print(x)\n",
    "    if x == 1:\n",
    "        return\n",
    "    # If x is even, apply the rule x/2\n",
    "    elif x % 2 == 0:\n",
    "        collatz(x // 2)\n",
    "    # If x is odd, apply the rule 3x + 1\n",
    "    else:\n",
    "        collatz(3 * x + 1)"
   ]
  },
  {
   "cell_type": "code",
   "execution_count": 49,
   "id": "fb630565",
   "metadata": {},
   "outputs": [
    {
     "name": "stdout",
     "output_type": "stream",
     "text": [
      "1\n"
     ]
    }
   ],
   "source": [
    "collatz(1)"
   ]
  },
  {
   "cell_type": "code",
   "execution_count": 50,
   "id": "1429dac9",
   "metadata": {},
   "outputs": [
    {
     "name": "stdout",
     "output_type": "stream",
     "text": [
      "10\n",
      "5\n",
      "16\n",
      "8\n",
      "4\n",
      "2\n",
      "1\n"
     ]
    }
   ],
   "source": [
    "collatz(10)"
   ]
  },
  {
   "cell_type": "markdown",
   "id": "f1d8b4c5",
   "metadata": {},
   "source": [
    "## Question 5\n",
    "### Write a recursive method binary() that takes a non-negative integer n and prints the binary representation of integer n.\n",
    "\n",
    "    >>> binary(0)\n",
    "    0\n",
    "    >>> binary(1)\n",
    "    1\n",
    "    >>> binary(3)\n",
    "    11\n",
    "    >>> binary(9)\n",
    "    1001"
   ]
  },
  {
   "cell_type": "code",
   "execution_count": 51,
   "id": "ff51385e",
   "metadata": {},
   "outputs": [],
   "source": [
    "def binary(n):\n",
    "    # Base case: If n is 0 or 1, just print n\n",
    "    if n == 0 or n == 1:\n",
    "        return str(n)\n",
    "    # Recursively find the binary representation of n//2 and append n%2 to it\n",
    "    else:\n",
    "        return binary(n // 2) + str(n % 2)"
   ]
  },
  {
   "cell_type": "code",
   "execution_count": 52,
   "id": "f56c25fb",
   "metadata": {},
   "outputs": [
    {
     "data": {
      "text/plain": [
       "'0'"
      ]
     },
     "execution_count": 52,
     "metadata": {},
     "output_type": "execute_result"
    }
   ],
   "source": [
    "binary(0)"
   ]
  },
  {
   "cell_type": "code",
   "execution_count": 53,
   "id": "2e2db7d8",
   "metadata": {},
   "outputs": [
    {
     "data": {
      "text/plain": [
       "'1'"
      ]
     },
     "execution_count": 53,
     "metadata": {},
     "output_type": "execute_result"
    }
   ],
   "source": [
    "binary(1)"
   ]
  },
  {
   "cell_type": "code",
   "execution_count": 54,
   "id": "0a3861cb",
   "metadata": {},
   "outputs": [
    {
     "data": {
      "text/plain": [
       "'11'"
      ]
     },
     "execution_count": 54,
     "metadata": {},
     "output_type": "execute_result"
    }
   ],
   "source": [
    "binary(3)"
   ]
  },
  {
   "cell_type": "code",
   "execution_count": 55,
   "id": "bc2ba69b",
   "metadata": {},
   "outputs": [
    {
     "data": {
      "text/plain": [
       "'1001'"
      ]
     },
     "execution_count": 55,
     "metadata": {},
     "output_type": "execute_result"
    }
   ],
   "source": [
    "binary(9)"
   ]
  },
  {
   "cell_type": "markdown",
   "id": "ed8a3f77",
   "metadata": {},
   "source": [
    "## Question 6\n",
    "### Implement a class named HeadingParser that can be used to parse an HTML document, and retrieve and print all the headings in the document. \n",
    "    \n",
    "    You should implement your class as a subclass of HTMLParser, defined in Standard Library module html.parser. \n",
    "    When fed a string containing HTML code, your class should print the headings, \n",
    "    one per line and in the order in which they appear in the document. \n",
    "    Each heading should be indented as follows: \n",
    "    an h1 heading should have indentation 0, and h2 heading should have indentation 1, etc. \n",
    "    \n",
    "    Test your implementation using w3c.html.\n",
    "    >>> infile = open('w3c.html')\n",
    "    >>> content = infile.read()\n",
    "    >>> infile.close()\n",
    "    >>> hp = HeadingParser()\n",
    "    >>> hp.feed(content)\n",
    "    W3C Mission\n",
    "    Principles"
   ]
  },
  {
   "cell_type": "code",
   "execution_count": 67,
   "id": "c6e2dfcd",
   "metadata": {},
   "outputs": [],
   "source": [
    "from html.parser import HTMLParser\n",
    "\n",
    "class HeadingParser(HTMLParser):\n",
    "    def __init__(self):\n",
    "        super().__init__()\n",
    "        self.in_heading = False\n",
    "        self.current_tag = \"\"\n",
    "\n",
    "    def handle_starttag(self, tag, attrs):\n",
    "        # Check if the tag is a heading tag\n",
    "        if tag in ['h1', 'h2']:\n",
    "            self.in_heading = True\n",
    "            self.current_tag = tag\n",
    "\n",
    "    def handle_endtag(self, tag):\n",
    "        if tag in ['h1', 'h2']:\n",
    "            self.in_heading = False\n",
    "\n",
    "    def handle_data(self, data):\n",
    "        if self.in_heading:\n",
    "            # Calculate the indentation based on the heading level\n",
    "            indentation = int(self.current_tag[1]) - 1\n",
    "            print(' ' * indentation + data)"
   ]
  },
  {
   "cell_type": "code",
   "execution_count": 68,
   "id": "bb67b4d0",
   "metadata": {},
   "outputs": [
    {
     "name": "stdout",
     "output_type": "stream",
     "text": [
      "W3C Mission\n",
      " Principles\n"
     ]
    }
   ],
   "source": [
    "infile = open('w3c.html')\n",
    "content = infile.read()\n",
    "infile.close()\n",
    "hp = HeadingParser()\n",
    "hp.feed(content)"
   ]
  },
  {
   "cell_type": "markdown",
   "id": "392d7599",
   "metadata": {},
   "source": [
    "## Question 7\n",
    "### Implement recursive function webdir() that takes as input: \n",
    "    a URL (as a string) and non-negative integers depth and indent. \n",
    "\n",
    "    Your function should visit every web page reachable from the starting URL web page in depth clicks or less, \n",
    "    and print each web page's URL. \n",
    "    As shown below, indentation, specified by indent, should be used to indicate the depth of a URL.\n",
    "    \n",
    "    >>> webdir('http://reed.cs.depaul.edu/lperkovic/csc242/test1.html', 2, 0)\n",
    "    http://reed.cs.depaul.edu/lperkovic/csc242/test1.html\n",
    "         http://reed.cs.depaul.edu/lperkovic/csc242/test2.html\n",
    "             http://reed.cs.depaul.edu/lperkovic/csc242/test4.html\n",
    "         http://reed.cs.depaul.edu/lperkovic/csc242/test3.html\n",
    "             http://reed.cs.depaul.edu/lperkovic/csc242/test4.html"
   ]
  },
  {
   "cell_type": "code",
   "execution_count": 81,
   "id": "f641da4a",
   "metadata": {},
   "outputs": [],
   "source": [
    "from urllib.request import urlopen\n",
    "from urllib.parse import urljoin\n",
    "from html.parser import HTMLParser\n",
    "\n",
    "class LinkCollector(HTMLParser):\n",
    "    def __init__(self, url):\n",
    "        super().__init__()\n",
    "        self.url = url\n",
    "        self.links = []\n",
    "\n",
    "    def get_links(self):\n",
    "        return self.links\n",
    "\n",
    "    def handle_starttag(self, tag, attrs):\n",
    "        if tag == 'a':\n",
    "            for attr in attrs:\n",
    "                if attr[0] == 'href':\n",
    "                    link = urljoin(self.url, attr[1])\n",
    "                    if link not in self.links and link.startswith('http'):\n",
    "                        self.links.append(link)\n",
    "\n",
    "def webdir(url, depth, indent=0):\n",
    "    if depth < 0:\n",
    "        return\n",
    "    print(' ' * indent + url)\n",
    "    response = urlopen(url)\n",
    "    content = response.read().decode()\n",
    "    parser = LinkCollector(url)\n",
    "    parser.feed(content)\n",
    "    links = parser.get_links()\n",
    "    for link in links:\n",
    "        webdir(link, depth - 1, indent + 4)"
   ]
  },
  {
   "cell_type": "code",
   "execution_count": 82,
   "id": "488026d8",
   "metadata": {},
   "outputs": [
    {
     "name": "stdout",
     "output_type": "stream",
     "text": [
      "http://reed.cs.depaul.edu/lperkovic/test1.html\n",
      "    http://reed.cs.depaul.edu/lperkovic/test2.html\n",
      "        http://reed.cs.depaul.edu/lperkovic/test4.html\n",
      "    http://reed.cs.depaul.edu/lperkovic/test3.html\n",
      "        http://reed.cs.depaul.edu/lperkovic/test4.html\n"
     ]
    }
   ],
   "source": [
    "webdir('http://reed.cs.depaul.edu/lperkovic/test1.html', 2, 0)"
   ]
  },
  {
   "cell_type": "markdown",
   "id": "cfdb0c91",
   "metadata": {},
   "source": [
    "## Question 8\n",
    "### Write SQL queries on the below database table that return: \n",
    "    a) All the temperature data.\n",
    "    b) All the cities, but without repetition.\n",
    "    c) All the records for India.\n",
    "    d) All the Fall records.\n",
    "    e) The city, country, and season for which the average rainfall is between 200 and 400 millimeters.\n",
    "    f) The city and country for which the average Fall temperature is above 20 degrees, in increasing temperature order.\n",
    "    g) The total annual rainfall for Cairo.\n",
    "    h) The total rainfall for each season.\n",
    "\n",
    "    City Country Season Temperature(C) Rainfall(mm)\n",
    "    Mumbai India Winter 24.8 5.9 \n",
    "    Mumbai India Spring 28.4 16.2 \n",
    "    Mumbai India Summer 27.9 1549.4 \n",
    "    Mumbai India Fall 27.6 346.0 \n",
    "    London United Kingdom Winter 4.2 207.7 \n",
    "    London United Kingdom Spring 8.3 169.6 \n",
    "    London United Kingdom Summer 15.7 157.0 \n",
    "    London United Kingdom Fall 10.4 218.5 \n",
    "    Cairo Egypt Winter 13.6 16.5 \n",
    "    Cairo Egypt Spring 20.7 6.5 \n",
    "    Cairo Egypt Summer 27.7 0.1 \n",
    "    Cairo Egypt Fall 22.2 4.5"
   ]
  },
  {
   "cell_type": "code",
   "execution_count": 83,
   "id": "318b5026",
   "metadata": {},
   "outputs": [
    {
     "data": {
      "text/plain": [
       "[('Mumbai', 'India', 'Winter', 24.8, 5.9),\n",
       " ('Mumbai', 'India', 'Spring', 28.4, 16.2),\n",
       " ('Mumbai', 'India', 'Summer', 27.9, 1549.4),\n",
       " ('Mumbai', 'India', 'Fall', 27.6, 346.0),\n",
       " ('London', 'United Kindom', 'Winter', 4.2, 207.7),\n",
       " ('London', 'United Kindom', 'Spring', 8.3, 169.6),\n",
       " ('London', 'United Kindom', 'Summer', 15.7, 157.0),\n",
       " ('London', 'United Kindom', 'Fall', 10.4, 218.5),\n",
       " ('Cairo', 'Egypt', 'Winter', 13.6, 16.5),\n",
       " ('Cairo', 'Egypt', 'Spring', 20.7, 6.5),\n",
       " ('Cairo', 'Egypt', 'Summer', 27.7, 0.1),\n",
       " ('Cairo', 'Egypt', 'Fall', 22.2, 4.5)]"
      ]
     },
     "execution_count": 83,
     "metadata": {},
     "output_type": "execute_result"
    }
   ],
   "source": [
    "import sqlite3\n",
    "\n",
    "# Establish a connection\n",
    "conn = sqlite3.connect('data_info.db')\n",
    "table = conn.cursor()\n",
    "\n",
    "# Create the table\n",
    "table.execute(\"CREATE TABLE IF NOT EXISTS data_info (City text, Country text, Season text, Temperature double, Rainfall double)\")\n",
    "table.execute(\"INSERT INTO data_info VALUES ('Mumbai', 'India', 'Winter', 24.8, 5.9), ('Mumbai','India', 'Spring', 28.4, 16.2), ('Mumbai','India', 'Summer', 27.9, 1549.4), ('Mumbai','India', 'Fall', 27.6, 346.0)\")\n",
    "table.execute(\"INSERT INTO data_info VALUES ('London', 'United Kindom', 'Winter', 4.2, 207.7), ('London', 'United Kindom', 'Spring', 8.3, 169.6), ('London', 'United Kindom', 'Summer', 15.7, 157.0), ('London', 'United Kindom', 'Fall', 10.4, 218.5)\")\n",
    "table.execute(\"INSERT INTO data_info VALUES ('Cairo', 'Egypt', 'Winter', 13.6, 16.5), ('Cairo', 'Egypt', 'Spring', 20.7, 6.5), ('Cairo', 'Egypt', 'Summer', 27.7, 0.1), ('Cairo', 'Egypt', 'Fall', 22.2, 4.5)\")\n",
    "\n",
    "table.execute('SELECT * FROM data_info')\n",
    "table.fetchall()"
   ]
  },
  {
   "cell_type": "code",
   "execution_count": 84,
   "id": "97cf53cc",
   "metadata": {},
   "outputs": [
    {
     "name": "stdout",
     "output_type": "stream",
     "text": [
      "(24.8,)\n",
      "(28.4,)\n",
      "(27.9,)\n",
      "(27.6,)\n",
      "(4.2,)\n",
      "(8.3,)\n",
      "(15.7,)\n",
      "(10.4,)\n",
      "(13.6,)\n",
      "(20.7,)\n",
      "(27.7,)\n",
      "(22.2,)\n"
     ]
    }
   ],
   "source": [
    "# a) All the temperature data.\n",
    "\n",
    "table.execute(\"SELECT Temperature FROM data_info\")\n",
    "for i in table:\n",
    "    print(i)"
   ]
  },
  {
   "cell_type": "code",
   "execution_count": 85,
   "id": "cb8c60db",
   "metadata": {},
   "outputs": [
    {
     "name": "stdout",
     "output_type": "stream",
     "text": [
      "('Mumbai',)\n",
      "('London',)\n",
      "('Cairo',)\n"
     ]
    }
   ],
   "source": [
    "# b) All the cities, but without repetition.\n",
    "\n",
    "table.execute(\"SELECT DISTINCT City FROM data_info\")\n",
    "for i in table:\n",
    "    print(i)"
   ]
  },
  {
   "cell_type": "code",
   "execution_count": 87,
   "id": "e683240e",
   "metadata": {},
   "outputs": [
    {
     "name": "stdout",
     "output_type": "stream",
     "text": [
      "('Mumbai', 'India', 'Winter', 24.8, 5.9)\n",
      "('Mumbai', 'India', 'Spring', 28.4, 16.2)\n",
      "('Mumbai', 'India', 'Summer', 27.9, 1549.4)\n",
      "('Mumbai', 'India', 'Fall', 27.6, 346.0)\n"
     ]
    }
   ],
   "source": [
    "# c) All the records for India.\n",
    "\n",
    "table.execute(\"SELECT * FROM data_info WHERE Country='India'\")\n",
    "for i in table:\n",
    "    print(i)"
   ]
  },
  {
   "cell_type": "code",
   "execution_count": 89,
   "id": "c75dfce2",
   "metadata": {},
   "outputs": [
    {
     "name": "stdout",
     "output_type": "stream",
     "text": [
      "('Mumbai', 'India', 'Fall', 27.6, 346.0)\n",
      "('London', 'United Kindom', 'Fall', 10.4, 218.5)\n",
      "('Cairo', 'Egypt', 'Fall', 22.2, 4.5)\n"
     ]
    }
   ],
   "source": [
    "# d) All the Fall records.\n",
    "\n",
    "table.execute(\"SELECT * FROM data_info WHERE Season='Fall'\")\n",
    "for i in table:\n",
    "    print(i)"
   ]
  },
  {
   "cell_type": "code",
   "execution_count": 90,
   "id": "2907dfe2",
   "metadata": {},
   "outputs": [
    {
     "name": "stdout",
     "output_type": "stream",
     "text": [
      "('Mumbai', 'India', 'Fall')\n",
      "('London', 'United Kindom', 'Winter')\n",
      "('London', 'United Kindom', 'Fall')\n"
     ]
    }
   ],
   "source": [
    "# e) The city, country, and season for which the average rainfall is between 200 and 400 millimeters.\n",
    "\n",
    "table.execute(\"SELECT City, Country, Season FROM data_info WHERE Rainfall>200 AND Rainfall<400\")\n",
    "for i in table:\n",
    "    print(i)"
   ]
  },
  {
   "cell_type": "code",
   "execution_count": 91,
   "id": "7033f545",
   "metadata": {},
   "outputs": [
    {
     "name": "stdout",
     "output_type": "stream",
     "text": [
      "('Cairo', 'Egypt')\n",
      "('Mumbai', 'India')\n"
     ]
    }
   ],
   "source": [
    "# f) The city and country for which the average Fall temperature is above 20 degrees, in increasing temperature order.\n",
    "\n",
    "table.execute(\"SELECT City, Country FROM data_info WHERE Season='Fall' AND Temperature>20 ORDER BY Temperature ASC\")\n",
    "for i in table:\n",
    "    print(i)"
   ]
  },
  {
   "cell_type": "code",
   "execution_count": 92,
   "id": "6ee61d2a",
   "metadata": {},
   "outputs": [
    {
     "name": "stdout",
     "output_type": "stream",
     "text": [
      "(27.6,)\n"
     ]
    }
   ],
   "source": [
    "# g) The total annual rainfall for Cairo.\n",
    "\n",
    "table.execute(\"SELECT SUM(Rainfall) FROM data_info WHERE City='Cairo'\")\n",
    "for i in table:\n",
    "    print(i)"
   ]
  },
  {
   "cell_type": "code",
   "execution_count": 93,
   "id": "c922b714",
   "metadata": {},
   "outputs": [
    {
     "name": "stdout",
     "output_type": "stream",
     "text": [
      "('Fall', 569.0)\n",
      "('Spring', 192.29999999999998)\n",
      "('Summer', 1706.5)\n",
      "('Winter', 230.1)\n"
     ]
    }
   ],
   "source": [
    "# h) The total rainfall for each season.\n",
    "\n",
    "table.execute(\"SELECT Season, SUM(Rainfall) FROM data_info GROUP BY Season\")\n",
    "for i in table:\n",
    "    print(i)"
   ]
  },
  {
   "cell_type": "markdown",
   "id": "16ad2940",
   "metadata": {},
   "source": [
    "## Question 9\n",
    "### Suppose list words is defined as follows:\n",
    "    >>> words = ['The', 'quick', 'brown', 'fox', 'jumps', 'over', 'the', 'lazy', 'dog']\n",
    "    \n",
    "    Write list comprehension expressions that use list words and generate the following lists:\n",
    "    \n",
    "    a) ['THE', 'QUICK', 'BROWN', 'FOX', 'JUMPS', 'OVER', 'THE', 'LAZY', 'DOG']\n",
    "    \n",
    "    b) ['the', 'quick', 'brown', 'fox', 'jumps', 'over', 'the', 'lazy', 'dog']\n",
    "    \n",
    "    c) [3, 5, 5, 3, 5, 4, 3, 4, 3] (the list of lengths of words in list words).\n",
    "    \n",
    "    d) [['THE', 'the', 3], ['QUICK', 'quick', 5], ['BROWN', 'brown', 5], ['FOX', 'fox', 3], \n",
    "        ['JUMPS', 'jumps', 5], ['OVER', 'over', 4], ['THE', 'the', 3], ['LAZY', 'lazy', 4], \n",
    "        ['DOG', 'dog', 3]] \n",
    "        (the list containing a list for every word of list words, \n",
    "        where each list contains the word in uppercase and lowercase and the length of the word.)\n",
    "    \n",
    "    e) ['The', 'quick', 'brown', 'fox', 'jumps', 'over', 'the', 'lazy', 'dog'] \n",
    "        (the list of words in list words containing 4 or more characters.)"
   ]
  },
  {
   "cell_type": "code",
   "execution_count": 94,
   "id": "f598658a",
   "metadata": {},
   "outputs": [
    {
     "name": "stdout",
     "output_type": "stream",
     "text": [
      "['The', 'quick', 'brown', 'fox', 'jumps', 'over', 'the', 'lazy', 'dog']\n"
     ]
    }
   ],
   "source": [
    "words = ['The', 'quick', 'brown', 'fox', 'jumps', 'over', 'the', 'lazy', 'dog']\n",
    "print(words)"
   ]
  },
  {
   "cell_type": "code",
   "execution_count": 97,
   "id": "750128ad",
   "metadata": {},
   "outputs": [
    {
     "name": "stdout",
     "output_type": "stream",
     "text": [
      "['THE', 'QUICK', 'BROWN', 'FOX', 'JUMPS', 'OVER', 'THE', 'LAZY', 'DOG']\n"
     ]
    }
   ],
   "source": [
    "# a) Converting the words list to upper case\n",
    "\n",
    "upperCase = [elements.upper() for elements in words]\n",
    "print (upperCase)"
   ]
  },
  {
   "cell_type": "code",
   "execution_count": 98,
   "id": "a252b304",
   "metadata": {},
   "outputs": [
    {
     "name": "stdout",
     "output_type": "stream",
     "text": [
      "['the', 'quick', 'brown', 'fox', 'jumps', 'over', 'the', 'lazy', 'dog']\n"
     ]
    }
   ],
   "source": [
    "# b) Converting the words list to lower case\n",
    "\n",
    "lowerCase = [elements.lower() for elements in words]\n",
    "print(lowerCase)"
   ]
  },
  {
   "cell_type": "code",
   "execution_count": 99,
   "id": "ca381514",
   "metadata": {},
   "outputs": [
    {
     "name": "stdout",
     "output_type": "stream",
     "text": [
      "[3, 5, 5, 3, 5, 4, 3, 4, 3]\n"
     ]
    }
   ],
   "source": [
    "# c) Counting length of each word in the list\n",
    "\n",
    "length = [len(elements) for elements in words]\n",
    "print(length)"
   ]
  },
  {
   "cell_type": "code",
   "execution_count": 100,
   "id": "8463f996",
   "metadata": {},
   "outputs": [
    {
     "name": "stdout",
     "output_type": "stream",
     "text": [
      "[('THE', 'the', 3), ('QUICK', 'quick', 5), ('BROWN', 'brown', 5), ('FOX', 'fox', 3), ('JUMPS', 'jumps', 5), ('OVER', 'over', 4), ('THE', 'the', 3), ('LAZY', 'lazy', 4), ('DOG', 'dog', 3)]\n"
     ]
    }
   ],
   "source": [
    "# d) Converting each word into upper case, lower case and counting the length of each word provided in the list\n",
    "\n",
    "combine = [(elements.upper(),elements.lower(),len(elements)) for elements in words]\n",
    "print(combine)"
   ]
  },
  {
   "cell_type": "code",
   "execution_count": 101,
   "id": "2b8f9b40",
   "metadata": {},
   "outputs": [
    {
     "name": "stdout",
     "output_type": "stream",
     "text": [
      "['quick', 'brown', 'jumps', 'over', 'lazy']\n"
     ]
    }
   ],
   "source": [
    "# e) Extracting the words from the list of words containing 4 or more characters\n",
    "\n",
    "aboveFour = [elements for elements in words if len(elements)>=4]\n",
    "print(aboveFour)"
   ]
  }
 ],
 "metadata": {
  "kernelspec": {
   "display_name": "Python 3 (ipykernel)",
   "language": "python",
   "name": "python3"
  },
  "language_info": {
   "codemirror_mode": {
    "name": "ipython",
    "version": 3
   },
   "file_extension": ".py",
   "mimetype": "text/x-python",
   "name": "python",
   "nbconvert_exporter": "python",
   "pygments_lexer": "ipython3",
   "version": "3.11.4"
  }
 },
 "nbformat": 4,
 "nbformat_minor": 5
}
